{
  "nbformat": 4,
  "nbformat_minor": 0,
  "metadata": {
    "kernelspec": {
      "display_name": "Python 3",
      "language": "python",
      "name": "python3"
    },
    "language_info": {
      "codemirror_mode": {
        "name": "ipython",
        "version": 3
      },
      "file_extension": ".py",
      "mimetype": "text/x-python",
      "name": "python",
      "nbconvert_exporter": "python",
      "pygments_lexer": "ipython3",
      "version": "3.7.3"
    },
    "colab": {
      "name": "Python Day 3.ipynb",
      "provenance": [],
      "collapsed_sections": []
    }
  },
  "cells": [
    {
      "cell_type": "markdown",
      "metadata": {
        "id": "CI6JAGMUZqwL"
      },
      "source": [
        "# In this session, we are going to explore other container objects and functions\n",
        "\n",
        "## In this session, we are going to learn the following key topics:\n",
        "*   Tuple\n",
        "*   Set\n",
        "*   Dictionary\n",
        "*   Function\n",
        "*   Lambda\n",
        "*   Iterator\n",
        "*   Generator\n",
        "*   Map\n",
        "*   Reduce\n",
        "*   Filter"
      ]
    },
    {
      "cell_type": "markdown",
      "metadata": {
        "id": "v19NzseYZqwQ"
      },
      "source": [
        "# Tuples\n",
        "\n",
        "In Python, tuples are similar to lists but they are immutable i.e. they cannot be changed. You would use the tuples to present data that shouldn't be changed, such as days of week or dates on  a calendar.\n",
        "\n",
        "In this section, we will get a brief overview of the following key topics:\n",
        "\n",
        "    1.) Constructing Tuples\n",
        "    2.) Basic Tuple Methods\n",
        "    3.) Immutability\n",
        "    4.) When to Use Tuples\n",
        "\n",
        "You'll have an intuition of how to use tuples based on what you've learned about lists. But, Tuples work very similar to lists but the  major difference is tuples are immutable.\n",
        "\n",
        "## Constructing Tuples\n",
        "\n",
        "The construction of tuples use () with elements separated by commas where in the arguments will be passed within brackets. For example:"
      ]
    },
    {
      "cell_type": "code",
      "metadata": {
        "id": "Z9sJaXsJZqwS"
      },
      "source": [
        "# Can create a tuple with mixed types \n",
        "m = (1,2,3)"
      ],
      "execution_count": 1,
      "outputs": []
    },
    {
      "cell_type": "code",
      "metadata": {
        "colab": {
          "base_uri": "https://localhost:8080/"
        },
        "id": "Qor0yib1ZqwU",
        "outputId": "181b8613-23ab-4325-a68d-9ce621910631"
      },
      "source": [
        "# Check len just like a list\n",
        "len(m)"
      ],
      "execution_count": 2,
      "outputs": [
        {
          "output_type": "execute_result",
          "data": {
            "text/plain": [
              "3"
            ]
          },
          "metadata": {},
          "execution_count": 2
        }
      ]
    },
    {
      "cell_type": "code",
      "metadata": {
        "colab": {
          "base_uri": "https://localhost:8080/"
        },
        "id": "p5dh2ZEkZqwW",
        "outputId": "c28b48f5-c91a-4099-a2d0-21c259ee9ff3"
      },
      "source": [
        "# Can also mix object types\n",
        "m = ('one',2)\n",
        "# Show\n",
        "m"
      ],
      "execution_count": 3,
      "outputs": [
        {
          "output_type": "execute_result",
          "data": {
            "text/plain": [
              "('one', 2)"
            ]
          },
          "metadata": {},
          "execution_count": 3
        }
      ]
    },
    {
      "cell_type": "code",
      "metadata": {
        "colab": {
          "base_uri": "https://localhost:8080/",
          "height": 35
        },
        "id": "C29-OeroZqwX",
        "outputId": "a97c15a2-eb85-4dfa-bf44-b0ddf9fa32ff"
      },
      "source": [
        "# Use indexing just like we did in lists\n",
        "m[0]"
      ],
      "execution_count": 4,
      "outputs": [
        {
          "output_type": "execute_result",
          "data": {
            "application/vnd.google.colaboratory.intrinsic+json": {
              "type": "string"
            },
            "text/plain": [
              "'one'"
            ]
          },
          "metadata": {},
          "execution_count": 4
        }
      ]
    },
    {
      "cell_type": "code",
      "metadata": {
        "colab": {
          "base_uri": "https://localhost:8080/"
        },
        "id": "8eSHnVswZqwX",
        "outputId": "234f38d2-8195-43c1-d2cb-288ca1dbe371"
      },
      "source": [
        "# Slicing just like a list # -1 means accessing the last multiple of the tuple \n",
        "m[-1]"
      ],
      "execution_count": 5,
      "outputs": [
        {
          "output_type": "execute_result",
          "data": {
            "text/plain": [
              "2"
            ]
          },
          "metadata": {},
          "execution_count": 5
        }
      ]
    },
    {
      "cell_type": "markdown",
      "metadata": {
        "id": "NpK5GZoOZqwY"
      },
      "source": [
        "## Basic Tuple Methods\n",
        "\n",
        "Tuples have built-in methods, but not as many as lists do. Let's see two samples of tuple built-in methods:"
      ]
    },
    {
      "cell_type": "code",
      "metadata": {
        "colab": {
          "base_uri": "https://localhost:8080/"
        },
        "id": "grP73ip9ZqwZ",
        "outputId": "ecce2351-2f4c-4fed-b766-b829c8495fb3"
      },
      "source": [
        "# Use .index to enter a value and return the index\n",
        "m.index('one')"
      ],
      "execution_count": 6,
      "outputs": [
        {
          "output_type": "execute_result",
          "data": {
            "text/plain": [
              "0"
            ]
          },
          "metadata": {},
          "execution_count": 6
        }
      ]
    },
    {
      "cell_type": "code",
      "metadata": {
        "colab": {
          "base_uri": "https://localhost:8080/"
        },
        "id": "w9vB1mxXZqwZ",
        "outputId": "b2501ccf-a95a-4c04-8003-c0bd030ca396"
      },
      "source": [
        "# Use .count to count the number of times a value appears\n",
        "m.count('one')"
      ],
      "execution_count": 7,
      "outputs": [
        {
          "output_type": "execute_result",
          "data": {
            "text/plain": [
              "1"
            ]
          },
          "metadata": {},
          "execution_count": 7
        }
      ]
    },
    {
      "cell_type": "markdown",
      "metadata": {
        "id": "Z0IyQtXMZqwa"
      },
      "source": [
        "## Immutability\n",
        "\n",
        "As tuples are immutable, it can't be stressed enough and add more into it. To drive that point home:"
      ]
    },
    {
      "cell_type": "code",
      "metadata": {
        "colab": {
          "base_uri": "https://localhost:8080/",
          "height": 169
        },
        "id": "7VuPMz8lZqwa",
        "outputId": "1e6437d1-94b7-4c67-c80d-a45ef1619fe7"
      },
      "source": [
        "m[0]='change'"
      ],
      "execution_count": 8,
      "outputs": [
        {
          "output_type": "error",
          "ename": "TypeError",
          "evalue": "ignored",
          "traceback": [
            "\u001b[0;31m---------------------------------------------------------------------------\u001b[0m",
            "\u001b[0;31mTypeError\u001b[0m                                 Traceback (most recent call last)",
            "\u001b[0;32m<ipython-input-8-c171d9029be4>\u001b[0m in \u001b[0;36m<module>\u001b[0;34m()\u001b[0m\n\u001b[0;32m----> 1\u001b[0;31m \u001b[0mm\u001b[0m\u001b[0;34m[\u001b[0m\u001b[0;36m0\u001b[0m\u001b[0;34m]\u001b[0m\u001b[0;34m=\u001b[0m\u001b[0;34m'change'\u001b[0m\u001b[0;34m\u001b[0m\u001b[0;34m\u001b[0m\u001b[0m\n\u001b[0m",
            "\u001b[0;31mTypeError\u001b[0m: 'tuple' object does not support item assignment"
          ]
        }
      ]
    },
    {
      "cell_type": "markdown",
      "metadata": {
        "id": "8707j9JdZqwb"
      },
      "source": [
        "Because tuple being immutable they can't grow. Once a tuple is made we can not add to it."
      ]
    },
    {
      "cell_type": "code",
      "metadata": {
        "colab": {
          "base_uri": "https://localhost:8080/",
          "height": 169
        },
        "id": "DebZAdEXZqwb",
        "outputId": "345e1cb9-a279-47ee-e9ff-4532948ef377"
      },
      "source": [
        "m.append('nope')"
      ],
      "execution_count": 9,
      "outputs": [
        {
          "output_type": "error",
          "ename": "AttributeError",
          "evalue": "ignored",
          "traceback": [
            "\u001b[0;31m---------------------------------------------------------------------------\u001b[0m",
            "\u001b[0;31mAttributeError\u001b[0m                            Traceback (most recent call last)",
            "\u001b[0;32m<ipython-input-9-4592f29e46be>\u001b[0m in \u001b[0;36m<module>\u001b[0;34m()\u001b[0m\n\u001b[0;32m----> 1\u001b[0;31m \u001b[0mm\u001b[0m\u001b[0;34m.\u001b[0m\u001b[0mappend\u001b[0m\u001b[0;34m(\u001b[0m\u001b[0;34m'nope'\u001b[0m\u001b[0;34m)\u001b[0m\u001b[0;34m\u001b[0m\u001b[0;34m\u001b[0m\u001b[0m\n\u001b[0m",
            "\u001b[0;31mAttributeError\u001b[0m: 'tuple' object has no attribute 'append'"
          ]
        }
      ]
    },
    {
      "cell_type": "markdown",
      "metadata": {
        "id": "Oz0ct91XZqwb"
      },
      "source": [
        "## When to use Tuples\n",
        "\n",
        "You may be wondering, \"Why to bother using tuples when they have a few available methods?\" \n",
        "\n",
        "Tuples are not used often as lists in programming but are used when immutability is necessary. While you are passing around an object and if you need to make sure that it does not get changed then tuple become your solution. It provides a convenient source of data integrity.\n",
        "\n",
        "You should now be able to create and use tuples in your programming as well as have a complete understanding of their immutability."
      ]
    },
    {
      "cell_type": "markdown",
      "metadata": {
        "id": "Vsz7fUzuZqwc"
      },
      "source": [
        "# Sets\n",
        "\n",
        "Sets are an unordered collection of *unique* elements which can be constructed using the set() function. \n",
        "\n",
        "Let's go ahead and create a set to see how it works."
      ]
    },
    {
      "cell_type": "code",
      "metadata": {
        "id": "CfnB6yUEZqwd"
      },
      "source": [
        "x = set()"
      ],
      "execution_count": 11,
      "outputs": []
    },
    {
      "cell_type": "code",
      "metadata": {
        "id": "eHS1BxDTZqwe"
      },
      "source": [
        "# We add to sets with the add() method\n",
        "x.add(1)"
      ],
      "execution_count": 12,
      "outputs": []
    },
    {
      "cell_type": "code",
      "metadata": {
        "colab": {
          "base_uri": "https://localhost:8080/"
        },
        "id": "ymdFrOsIZqwe",
        "outputId": "475b8126-3f14-44b5-bb26-8e88e1579528"
      },
      "source": [
        "#Show\n",
        "x"
      ],
      "execution_count": 13,
      "outputs": [
        {
          "output_type": "execute_result",
          "data": {
            "text/plain": [
              "{1}"
            ]
          },
          "metadata": {},
          "execution_count": 13
        }
      ]
    },
    {
      "cell_type": "markdown",
      "metadata": {
        "id": "bMDJHcMpZqwf"
      },
      "source": [
        "Note that the curly brackets do not indicate a dictionary! Using only keys, you can draw analogies as a set being a dictionary.\n",
        "\n",
        "We know that a set has an only unique entry. Now, let us see what happens when we try to add something more that is already present in a set?"
      ]
    },
    {
      "cell_type": "code",
      "metadata": {
        "id": "NocXj0LKZqwf"
      },
      "source": [
        "# Add a different element\n",
        "x.add(2)"
      ],
      "execution_count": 14,
      "outputs": []
    },
    {
      "cell_type": "code",
      "metadata": {
        "colab": {
          "base_uri": "https://localhost:8080/"
        },
        "id": "uNj1bceYZqwg",
        "outputId": "2f98a0b7-734e-493c-bc0a-0a9f80486dbc"
      },
      "source": [
        "#Show\n",
        "x"
      ],
      "execution_count": 15,
      "outputs": [
        {
          "output_type": "execute_result",
          "data": {
            "text/plain": [
              "{1, 2}"
            ]
          },
          "metadata": {},
          "execution_count": 15
        }
      ]
    },
    {
      "cell_type": "code",
      "metadata": {
        "id": "x000uFHHZqwg"
      },
      "source": [
        "# Try to add the same element\n",
        "x.add(1)"
      ],
      "execution_count": 16,
      "outputs": []
    },
    {
      "cell_type": "code",
      "metadata": {
        "colab": {
          "base_uri": "https://localhost:8080/"
        },
        "id": "bY2LWm_LZqwg",
        "outputId": "2acc4db2-8109-4dde-dcfc-12a01ab8d404"
      },
      "source": [
        "#Show\n",
        "x"
      ],
      "execution_count": 17,
      "outputs": [
        {
          "output_type": "execute_result",
          "data": {
            "text/plain": [
              "{1, 2}"
            ]
          },
          "metadata": {},
          "execution_count": 17
        }
      ]
    },
    {
      "cell_type": "markdown",
      "metadata": {
        "id": "SViRSp9CZqwh"
      },
      "source": [
        "Notice, how it won't place another 1 there as a set is only concerned with unique elements! However, We can cast a list with multiple repeat elements to a set to get the unique elements. For example:"
      ]
    },
    {
      "cell_type": "code",
      "metadata": {
        "id": "N1-Tm-lsZqwh"
      },
      "source": [
        "# Create a list with repeats\n",
        "m=[1,1,2,3,4,5,6,1,1]"
      ],
      "execution_count": 19,
      "outputs": []
    },
    {
      "cell_type": "code",
      "metadata": {
        "colab": {
          "base_uri": "https://localhost:8080/"
        },
        "id": "dx78g4b_Zqwi",
        "outputId": "00845915-f4ec-40a8-99f1-a6c8e7479127"
      },
      "source": [
        "# Cast as set to get unique values\n",
        "set(m)"
      ],
      "execution_count": 20,
      "outputs": [
        {
          "output_type": "execute_result",
          "data": {
            "text/plain": [
              "{1, 2, 3, 4, 5, 6}"
            ]
          },
          "metadata": {},
          "execution_count": 20
        }
      ]
    },
    {
      "cell_type": "markdown",
      "metadata": {
        "id": "jy0c2w-PZqwi"
      },
      "source": [
        "# Dictionaries\n",
        "\n",
        "We have learned about \"Sequences\" in the previous session. Now, let's switch the gears and learn about \"mappings\" in Python. These dictionaries are nothing but hash tables in other programming languages.\n",
        "\n",
        "In this section, we will learn briefly about an introduction to dictionaries and what it consists of:\n",
        "\n",
        "    1.) Constructing a Dictionary\n",
        "    2.) Accessing objects from a Dictionary\n",
        "    3.) Nesting Dictionaries\n",
        "    4.) Basic Dictionary Methods\n",
        "\n",
        "Before we dive deep into this concept, let's understand what are Mappings? \n",
        "\n",
        "Mappings are a collection of objects that are stored by a \"key\". Unlike a sequence, mapping store objects by their relative position. This is an important distinction since mappings won't retain the order since they have objects defined by a key.\n",
        "\n",
        "A Python dictionary consists of a key and then an associated value. That value can be almost any Python object.\n",
        "\n",
        "\n",
        "## Constructing a Dictionary\n",
        "Let's see how we can construct dictionaries to get a better understanding of how they work!"
      ]
    },
    {
      "cell_type": "code",
      "metadata": {
        "id": "Yo9RqBmwZqwj"
      },
      "source": [
        "# Make a dictionary with {} and : to signify a key and a value\n",
        "my_dict = {'key1':'value1','key2':'value2'}"
      ],
      "execution_count": 24,
      "outputs": []
    },
    {
      "cell_type": "code",
      "metadata": {
        "colab": {
          "base_uri": "https://localhost:8080/",
          "height": 35
        },
        "id": "sN9pxZe5Zqwj",
        "outputId": "3f9ed188-0862-4264-816a-baeab023ef48"
      },
      "source": [
        "# Call values by their key\n",
        "my_dict['key2']"
      ],
      "execution_count": 25,
      "outputs": [
        {
          "output_type": "execute_result",
          "data": {
            "application/vnd.google.colaboratory.intrinsic+json": {
              "type": "string"
            },
            "text/plain": [
              "'value2'"
            ]
          },
          "metadata": {},
          "execution_count": 25
        }
      ]
    },
    {
      "cell_type": "markdown",
      "metadata": {
        "id": "DH5CF1EbZqwk"
      },
      "source": [
        "Note that dictionaries are very flexible in the data types they can hold. For example:"
      ]
    },
    {
      "cell_type": "code",
      "metadata": {
        "id": "5DqTgnIHZqwl"
      },
      "source": [
        "my_dict = {'key1':123,'key2':[12,23,33],'key3':['item0','item1','item2']}"
      ],
      "execution_count": 26,
      "outputs": []
    },
    {
      "cell_type": "code",
      "metadata": {
        "colab": {
          "base_uri": "https://localhost:8080/"
        },
        "id": "nXdCwEf3Zqwl",
        "outputId": "64ab87da-10c1-472b-ee0d-dc64873214db"
      },
      "source": [
        "#Let's call items from the dictionary\n",
        "my_dict['key3']"
      ],
      "execution_count": 27,
      "outputs": [
        {
          "output_type": "execute_result",
          "data": {
            "text/plain": [
              "['item0', 'item1', 'item2']"
            ]
          },
          "metadata": {},
          "execution_count": 27
        }
      ]
    },
    {
      "cell_type": "code",
      "metadata": {
        "colab": {
          "base_uri": "https://localhost:8080/",
          "height": 35
        },
        "id": "ROafWqBBZqwl",
        "outputId": "10facfe0-8a01-47df-b785-42e5003ab8d9"
      },
      "source": [
        "# Can call an index on that value\n",
        "my_dict['key3'][0]"
      ],
      "execution_count": 28,
      "outputs": [
        {
          "output_type": "execute_result",
          "data": {
            "application/vnd.google.colaboratory.intrinsic+json": {
              "type": "string"
            },
            "text/plain": [
              "'item0'"
            ]
          },
          "metadata": {},
          "execution_count": 28
        }
      ]
    },
    {
      "cell_type": "code",
      "metadata": {
        "colab": {
          "base_uri": "https://localhost:8080/",
          "height": 35
        },
        "id": "iUyW_vIVZqwp",
        "outputId": "b5559ae9-def9-4b61-a476-db38223209f8"
      },
      "source": [
        "#Can then even call methods on that value\n",
        "my_dict['key3'][0].upper()"
      ],
      "execution_count": 29,
      "outputs": [
        {
          "output_type": "execute_result",
          "data": {
            "application/vnd.google.colaboratory.intrinsic+json": {
              "type": "string"
            },
            "text/plain": [
              "'ITEM0'"
            ]
          },
          "metadata": {},
          "execution_count": 29
        }
      ]
    },
    {
      "cell_type": "markdown",
      "metadata": {
        "id": "78PbMrxeZqwp"
      },
      "source": [
        "We can effect the values of a key as well. For instance:"
      ]
    },
    {
      "cell_type": "code",
      "metadata": {
        "colab": {
          "base_uri": "https://localhost:8080/"
        },
        "id": "lh8r-JgOZqwq",
        "outputId": "a4d4c279-4f15-4aa9-ee10-3eaa12159bd9"
      },
      "source": [
        "my_dict['key1']"
      ],
      "execution_count": 30,
      "outputs": [
        {
          "output_type": "execute_result",
          "data": {
            "text/plain": [
              "123"
            ]
          },
          "metadata": {},
          "execution_count": 30
        }
      ]
    },
    {
      "cell_type": "code",
      "metadata": {
        "id": "24DsnKbpZqwr"
      },
      "source": [
        "# Subtract 123 from the value\n",
        "my_dict['key1']= my_dict['key1']-123"
      ],
      "execution_count": 31,
      "outputs": []
    },
    {
      "cell_type": "code",
      "metadata": {
        "colab": {
          "base_uri": "https://localhost:8080/"
        },
        "id": "HhnE2cATZqwr",
        "outputId": "deca750d-8bad-4f95-8727-19d31aee1d38"
      },
      "source": [
        "#Check\n",
        "my_dict['key1']"
      ],
      "execution_count": 32,
      "outputs": [
        {
          "output_type": "execute_result",
          "data": {
            "text/plain": [
              "0"
            ]
          },
          "metadata": {},
          "execution_count": 32
        }
      ]
    },
    {
      "cell_type": "markdown",
      "metadata": {
        "id": "DHRZHYPhZqwr"
      },
      "source": [
        "\\Note, Python has a built-in method of doing a self subtraction or addition (or multiplication or division). We could also use += or -= for the above statement. For example:"
      ]
    },
    {
      "cell_type": "code",
      "metadata": {
        "colab": {
          "base_uri": "https://localhost:8080/"
        },
        "id": "KJZhktnLZqws",
        "outputId": "5e65ef8c-87e2-4696-830d-ffa202948bbb"
      },
      "source": [
        "# Set the object equal to itself minus 123 \n",
        "my_dict['key1']-=123\n",
        "my_dict['key1']"
      ],
      "execution_count": 33,
      "outputs": [
        {
          "output_type": "execute_result",
          "data": {
            "text/plain": [
              "-123"
            ]
          },
          "metadata": {},
          "execution_count": 33
        }
      ]
    },
    {
      "cell_type": "markdown",
      "metadata": {
        "id": "h54ECj0DZqws"
      },
      "source": [
        "We can also create keys by assignment. For instance if we started off with an empty dictionary, we could continually add to it:"
      ]
    },
    {
      "cell_type": "code",
      "metadata": {
        "id": "5q0M46DHZqws"
      },
      "source": [
        "# Create a new dictionary\n",
        "d={}"
      ],
      "execution_count": 34,
      "outputs": []
    },
    {
      "cell_type": "code",
      "metadata": {
        "id": "x0h1ynU8Zqwt"
      },
      "source": [
        "# Create a new key through assignment\n",
        "d['animal']='cat'"
      ],
      "execution_count": 36,
      "outputs": []
    },
    {
      "cell_type": "code",
      "metadata": {
        "id": "8p1DGHTkZqwt"
      },
      "source": [
        "# Can do this with any object\n",
        "d['question']='whats it about ?'"
      ],
      "execution_count": 37,
      "outputs": []
    },
    {
      "cell_type": "code",
      "metadata": {
        "colab": {
          "base_uri": "https://localhost:8080/"
        },
        "id": "QI6DXwKBZqwt",
        "outputId": "8961d4c7-7d6a-46ec-c7e5-9371b4d1f47c"
      },
      "source": [
        "#Show\n",
        "d"
      ],
      "execution_count": 38,
      "outputs": [
        {
          "output_type": "execute_result",
          "data": {
            "text/plain": [
              "{'animal': 'cat', 'question': 'whats it about ?'}"
            ]
          },
          "metadata": {},
          "execution_count": 38
        }
      ]
    },
    {
      "cell_type": "markdown",
      "metadata": {
        "id": "wgGk-CL5Zqwt"
      },
      "source": [
        "## Nesting with Dictionaries\n",
        "\n",
        "Let's understand how flexible Python is with nesting objects and calling methods on them. let's have a look at the dictionary nested inside a dictionary:"
      ]
    },
    {
      "cell_type": "code",
      "metadata": {
        "id": "hYXPbQbUZqwu"
      },
      "source": [
        "# Dictionary nested inside a dictionary nested in side a dictionary\n",
        "d={'key1':{'nestkey':{'subnestkey':'key'}}}"
      ],
      "execution_count": 39,
      "outputs": []
    },
    {
      "cell_type": "markdown",
      "metadata": {
        "id": "4a8uI-39Zqwu"
      },
      "source": [
        "Thats the inception of dictionaries. Now, Let's see how we can grab that value:"
      ]
    },
    {
      "cell_type": "code",
      "metadata": {
        "colab": {
          "base_uri": "https://localhost:8080/",
          "height": 35
        },
        "id": "UUIBd48SZqwu",
        "outputId": "5eb897df-ee07-4ebd-b087-3956ebd4d06d"
      },
      "source": [
        "# Keep calling the keys\n",
        "d['key1']['nestkey']['subnestkey']"
      ],
      "execution_count": 40,
      "outputs": [
        {
          "output_type": "execute_result",
          "data": {
            "application/vnd.google.colaboratory.intrinsic+json": {
              "type": "string"
            },
            "text/plain": [
              "'key'"
            ]
          },
          "metadata": {},
          "execution_count": 40
        }
      ]
    },
    {
      "cell_type": "markdown",
      "metadata": {
        "id": "An2zy3pZZqwv"
      },
      "source": [
        "## A few Dictionary Methods\n",
        "\n",
        "There are a few methods we can call on a dictionary. Let's get a quick introduction to a few methods:"
      ]
    },
    {
      "cell_type": "code",
      "metadata": {
        "id": "RvbaGZHHZqwv"
      },
      "source": [
        "# Create a typical dictionary\n",
        "d={'key1':1,'key2':2,'key3':3}"
      ],
      "execution_count": 41,
      "outputs": []
    },
    {
      "cell_type": "code",
      "metadata": {
        "colab": {
          "base_uri": "https://localhost:8080/"
        },
        "id": "V-Q7Pr03Zqwv",
        "outputId": "05987f4c-91d4-4633-cb49-a97052f36963"
      },
      "source": [
        "# Method to return a list of all keys \n",
        "d.keys()"
      ],
      "execution_count": 42,
      "outputs": [
        {
          "output_type": "execute_result",
          "data": {
            "text/plain": [
              "dict_keys(['key1', 'key2', 'key3'])"
            ]
          },
          "metadata": {},
          "execution_count": 42
        }
      ]
    },
    {
      "cell_type": "code",
      "metadata": {
        "colab": {
          "base_uri": "https://localhost:8080/"
        },
        "id": "1bQRuVLWZqww",
        "outputId": "aea726a7-8ac6-48a7-f943-95e8cd542d71"
      },
      "source": [
        "# Method to grab all values\n",
        "d.values()"
      ],
      "execution_count": 43,
      "outputs": [
        {
          "output_type": "execute_result",
          "data": {
            "text/plain": [
              "dict_values([1, 2, 3])"
            ]
          },
          "metadata": {},
          "execution_count": 43
        }
      ]
    },
    {
      "cell_type": "code",
      "metadata": {
        "colab": {
          "base_uri": "https://localhost:8080/"
        },
        "id": "tKW0lHljZqww",
        "outputId": "eac9a60e-7da2-411d-a476-74e286c49bbf"
      },
      "source": [
        "# Method to return tuples of all items  (we'll learn about tuples soon)\n",
        "d.items()"
      ],
      "execution_count": 44,
      "outputs": [
        {
          "output_type": "execute_result",
          "data": {
            "text/plain": [
              "dict_items([('key1', 1), ('key2', 2), ('key3', 3)])"
            ]
          },
          "metadata": {},
          "execution_count": 44
        }
      ]
    },
    {
      "cell_type": "markdown",
      "metadata": {
        "id": "qwPLmXosZqww"
      },
      "source": [
        ""
      ]
    },
    {
      "cell_type": "markdown",
      "metadata": {
        "id": "KbMltkYjZqwx"
      },
      "source": [
        "## Dictionary Comprehensions\n",
        "\n",
        "Just like List Comprehensions, Dictionary Data Types also support their own version of comprehension for quick creation. It is not as commonly used as List Comprehensions, but the syntax is:"
      ]
    },
    {
      "cell_type": "code",
      "metadata": {
        "colab": {
          "base_uri": "https://localhost:8080/"
        },
        "id": "OmNMZF49Zqwx",
        "outputId": "3356b770-a9e7-4274-dd10-4afde1cadef6"
      },
      "source": [
        "{x:x**2 for x in range(10)} #double star is power "
      ],
      "execution_count": 45,
      "outputs": [
        {
          "output_type": "execute_result",
          "data": {
            "text/plain": [
              "{0: 0, 1: 1, 2: 4, 3: 9, 4: 16, 5: 25, 6: 36, 7: 49, 8: 64, 9: 81}"
            ]
          },
          "metadata": {},
          "execution_count": 45
        }
      ]
    },
    {
      "cell_type": "code",
      "metadata": {
        "id": "FgI_VcXHZqwx"
      },
      "source": [
        ""
      ],
      "execution_count": null,
      "outputs": []
    },
    {
      "cell_type": "markdown",
      "metadata": {
        "id": "3Qf8bL32Zqwy"
      },
      "source": [
        "One of the reasons is the difficulty in structuring the key names that are not based on the values."
      ]
    },
    {
      "cell_type": "markdown",
      "metadata": {
        "id": "Fxu6w-SFZqwy"
      },
      "source": [
        "# Functions\n",
        "\n",
        "## Introduction to Functions\n",
        "\n",
        "What is a function in Python and how to create a function? \n",
        "\n",
        "Functions will be one of our main building blocks when we construct larger and larger amount of code to solve problems.\n",
        "\n",
        "**So what is a function?**\n",
        "\n",
        "A function groups a set of statements together to run the statements more than once. It allows us to specify parameters that can serve as inputs to the functions.\n",
        "\n",
        "Functions allow us to reuse the code instead of writing the code again and again. If you recall strings and lists, remember that len() function is used to find the length of a string. Since checking the length of a sequence is a common task, you would want to write a function that can do this repeatedly at command.\n",
        "\n",
        "Function is one of the most basic levels of reusing code in Python, and it will also allow us to start thinking of program design."
      ]
    },
    {
      "cell_type": "markdown",
      "metadata": {
        "id": "w4kKLZsHZqwy"
      },
      "source": [
        "## def Statements\n",
        "\n",
        "Now, let us learn how to build a function and what is the syntax in Python.\n",
        "\n",
        "The syntax for def statements will be in the following form:"
      ]
    },
    {
      "cell_type": "code",
      "metadata": {
        "colab": {
          "base_uri": "https://localhost:8080/",
          "height": 133
        },
        "id": "hnhBrdiYZqwy",
        "outputId": "a5da528a-7f56-4e28-9b34-14b11800d43d"
      },
      "source": [
        "def name_of_funtion(agr1,arg2):\n",
        "  \"\n",
        "  this is the block of the code where the code is writen \n",
        "  \"\n",
        "    # Do stuff here\n",
        "    #return desired result"
      ],
      "execution_count": 48,
      "outputs": [
        {
          "output_type": "error",
          "ename": "SyntaxError",
          "evalue": "ignored",
          "traceback": [
            "\u001b[0;36m  File \u001b[0;32m\"<ipython-input-48-2b33e7729478>\"\u001b[0;36m, line \u001b[0;32m2\u001b[0m\n\u001b[0;31m    \"\u001b[0m\n\u001b[0m     ^\u001b[0m\n\u001b[0;31mSyntaxError\u001b[0m\u001b[0;31m:\u001b[0m EOL while scanning string literal\n"
          ]
        }
      ]
    },
    {
      "cell_type": "markdown",
      "metadata": {
        "id": "_5SIsgxqZqwz"
      },
      "source": [
        "We begin with def then a space followed by the name of the function. Try to keep names relevant and simple as possible, for example, len() is a good name for a length() function. Also be careful with names, you wouldn't want to call a function the same name as a [built-in function in Python](https://docs.python.org/2/library/functions.html) (such as len).\n",
        "\n",
        "Next, comes the number of arguments separated by a comma within a pair of parenthesis which acts as input to the defined function,  reference them and the function definition with a colon.  \n",
        "\n",
        "Here comes the important step to indent to begin the code inside the defined functions properly. Also remember, Python makes use of *whitespace* to organize code and lot of other programming languages do not do this.\n",
        "\n",
        "Next, you'll see the doc-string where you write the basic description of the function. Using iPython and iPython Notebooks, you'll be able to read these doc-strings by pressing Shift+Tab after a function name. It is not mandatory to include docstrings with simple functions, but it is a good practice to put them as this will help the programmers to easily understand the code you write.\n",
        "\n",
        "After all this, you can begin writing the code you wish to execute.\n",
        "\n",
        "The best way to learn functions is by going through examples. So let's try to analyze and understand examples that relate back to the various objects and data structures we learned."
      ]
    },
    {
      "cell_type": "markdown",
      "metadata": {
        "id": "Xxce41FSZqwz"
      },
      "source": [
        "### Example 1: A simple print 'hello' function"
      ]
    },
    {
      "cell_type": "code",
      "metadata": {
        "id": "eZLc-btVZqwz"
      },
      "source": [
        "def say_hello():\n",
        "  print('hello')"
      ],
      "execution_count": 49,
      "outputs": []
    },
    {
      "cell_type": "markdown",
      "metadata": {
        "id": "ho_kf7OvZqw0"
      },
      "source": [
        "Call the function"
      ]
    },
    {
      "cell_type": "code",
      "metadata": {
        "colab": {
          "base_uri": "https://localhost:8080/"
        },
        "id": "Z-AaIN7UZqw0",
        "outputId": "ef80d822-13c3-4040-cd5d-b4af21819321"
      },
      "source": [
        "say_hello()"
      ],
      "execution_count": 50,
      "outputs": [
        {
          "output_type": "stream",
          "name": "stdout",
          "text": [
            "hello\n"
          ]
        }
      ]
    },
    {
      "cell_type": "markdown",
      "metadata": {
        "id": "2vcwOeaKZqw0"
      },
      "source": [
        "### Example 2: A simple greeting function\n",
        "Let's write a function that greets people with their name."
      ]
    },
    {
      "cell_type": "code",
      "metadata": {
        "id": "H8X1QN5cZqw0"
      },
      "source": [
        "def greeting(name):\n",
        "  print('hello %s' %name)"
      ],
      "execution_count": 51,
      "outputs": []
    },
    {
      "cell_type": "code",
      "metadata": {
        "colab": {
          "base_uri": "https://localhost:8080/"
        },
        "id": "DLezbcbtZqw0",
        "outputId": "56f87723-5999-4f83-c509-246a26bfc67d"
      },
      "source": [
        "greeting('jo')"
      ],
      "execution_count": 52,
      "outputs": [
        {
          "output_type": "stream",
          "name": "stdout",
          "text": [
            "hello jo\n"
          ]
        }
      ]
    },
    {
      "cell_type": "markdown",
      "metadata": {
        "id": "GyWx3Aa-Zqw1"
      },
      "source": [
        "## Using return\n",
        "Let's see some examples that use a return statement. Return allows a function to \"return\" a result that can then be stored as a variable, or used in whatever manner a user wants.\n",
        "\n",
        "### Example 3: Addition function"
      ]
    },
    {
      "cell_type": "code",
      "metadata": {
        "id": "VKQV_oY2Zqw1"
      },
      "source": [
        "def add_num(num1,num2):\n",
        "  return num1+num2"
      ],
      "execution_count": 56,
      "outputs": []
    },
    {
      "cell_type": "code",
      "metadata": {
        "colab": {
          "base_uri": "https://localhost:8080/"
        },
        "id": "JBHogO2PZqw1",
        "outputId": "67c0420e-bffc-42a4-c6f4-7da407f448b4"
      },
      "source": [
        "add_num(4,5)"
      ],
      "execution_count": 57,
      "outputs": [
        {
          "output_type": "execute_result",
          "data": {
            "text/plain": [
              "9"
            ]
          },
          "metadata": {},
          "execution_count": 57
        }
      ]
    },
    {
      "cell_type": "code",
      "metadata": {
        "id": "sPFWZfmRZqw1"
      },
      "source": [
        "# Can also save as variable due to return\n",
        "result = add_num(4,5)"
      ],
      "execution_count": 58,
      "outputs": []
    },
    {
      "cell_type": "code",
      "metadata": {
        "colab": {
          "base_uri": "https://localhost:8080/"
        },
        "id": "34ol3Q1NZqw2",
        "outputId": "9dd4b68b-42f5-46c9-b90f-4451447cca50"
      },
      "source": [
        "print(result)"
      ],
      "execution_count": 59,
      "outputs": [
        {
          "output_type": "stream",
          "name": "stdout",
          "text": [
            "9\n"
          ]
        }
      ]
    },
    {
      "cell_type": "markdown",
      "metadata": {
        "id": "BgnCcoyUZqw2"
      },
      "source": [
        "What happens if we input two strings?"
      ]
    },
    {
      "cell_type": "code",
      "metadata": {
        "colab": {
          "base_uri": "https://localhost:8080/"
        },
        "id": "hwaLtuYkZqw4",
        "outputId": "0ff7156f-de96-4424-8f11-6e64a6ced486"
      },
      "source": [
        "print(add_num('one\\t','two'))"
      ],
      "execution_count": 60,
      "outputs": [
        {
          "output_type": "stream",
          "name": "stdout",
          "text": [
            "one\ttwo\n"
          ]
        }
      ]
    },
    {
      "cell_type": "markdown",
      "metadata": {
        "id": "61KRdji8Zqw5"
      },
      "source": [
        "In Python we don't declare variable types, this function could be used to add numbers or sequences together! Going forward, We'll learn about adding in checks to make sure a user puts in the correct arguments into a function.\n",
        "\n",
        "Let's also start using *break*,*continue*, and *pass* statements in our code. We introduced these during the while lecture."
      ]
    },
    {
      "cell_type": "markdown",
      "metadata": {
        "collapsed": true,
        "id": "JeYKkVMXZqw5"
      },
      "source": [
        "Now, let's see a complete example of creating a function to check if a number is prime (a common interview exercise).\n",
        "\n",
        "We know a number is said to be prime if that number is only divisible by 1 and itself. Let's write our first version of the function to check all the numbers from 1 to N and perform modulo checks."
      ]
    },
    {
      "cell_type": "code",
      "metadata": {
        "id": "ko84ha5MZqw6"
      },
      "source": [
        "def is_prime(num):\n",
        "  for n in range(2,num):\n",
        "    if num % n==0:\n",
        "      print ('not prime')\n",
        "      break\n",
        "    else:\n",
        "      print('prime')\n",
        "    # If never mod zero, then prime\n",
        "    "
      ],
      "execution_count": 61,
      "outputs": []
    },
    {
      "cell_type": "code",
      "metadata": {
        "colab": {
          "base_uri": "https://localhost:8080/"
        },
        "id": "sIXFJ9OuZqw7",
        "outputId": "7c480a8c-2bcb-4dda-82a0-411eb519e5fa"
      },
      "source": [
        "is_prime(11)"
      ],
      "execution_count": 62,
      "outputs": [
        {
          "output_type": "stream",
          "name": "stdout",
          "text": [
            "prime\n",
            "prime\n",
            "prime\n",
            "prime\n",
            "prime\n",
            "prime\n",
            "prime\n",
            "prime\n",
            "prime\n"
          ]
        }
      ]
    },
    {
      "cell_type": "markdown",
      "metadata": {
        "id": "rFeROjYoZqw7"
      },
      "source": [
        "Note that how we break the code after the print statement! We can actually improve this by only checking to the square root of the target number, also we can disregard all even numbers after checking for 2. We'll also switch to returning a boolean value to get an example of using return statements:"
      ]
    },
    {
      "cell_type": "code",
      "metadata": {
        "id": "N4gKIyXkZqw7"
      },
      "source": [
        "import math\n",
        "def is_prime(num):\n",
        "  if num % 2==0 and num > 2:\n",
        "    return False\n",
        "  for i in range(3, int(math.sqrt(num)) + 1, 2):\n",
        "    if num % i == 0:\n",
        "      return False #it should be in capital the first letter\n",
        "  return True"
      ],
      "execution_count": 80,
      "outputs": []
    },
    {
      "cell_type": "code",
      "metadata": {
        "colab": {
          "base_uri": "https://localhost:8080/"
        },
        "id": "VBqlmd8_Zqw7",
        "outputId": "8921a6b5-ef1b-4544-e3b3-4467fb695626"
      },
      "source": [
        "x=int(math.sqrt(11))+1\n",
        "x\n",
        "\n",
        "print(list(range(3,4,2)))"
      ],
      "execution_count": 79,
      "outputs": [
        {
          "output_type": "stream",
          "name": "stdout",
          "text": [
            "[3]\n"
          ]
        }
      ]
    },
    {
      "cell_type": "code",
      "metadata": {
        "colab": {
          "base_uri": "https://localhost:8080/"
        },
        "id": "eSbxElYSZqw8",
        "outputId": "3bb274a6-bfc4-4358-ade7-4b370f62752c"
      },
      "source": [
        "is_prime(11)"
      ],
      "execution_count": 82,
      "outputs": [
        {
          "output_type": "execute_result",
          "data": {
            "text/plain": [
              "True"
            ]
          },
          "metadata": {},
          "execution_count": 82
        }
      ]
    },
    {
      "cell_type": "markdown",
      "metadata": {
        "id": "eyHfiANBZqw8"
      },
      "source": [
        "# Iterators and Generators"
      ]
    },
    {
      "cell_type": "markdown",
      "metadata": {
        "id": "a9qVEO-eZqw8"
      },
      "source": [
        "In this section, you will be learning the differences between iterations and generation in Python and also how to construct our own generators with the \"yield\" statement. Generators allow us to generate as we go along instead of storing everything in the memory.\n",
        "\n",
        "We have learned, how to create functions with \"def\" and the \"return\" statement. In Python, Generator function allow us to write a function that can send back a value and then later resume to pick up where it was left. It also allows us to generate a sequence of values over time. The main difference in syntax will be the use of a **yield** statement.\n",
        "\n",
        "In most aspects, a generator function will appear very similar to a normal function. The main difference is when a generator function is called and compiled they become an object that supports an iteration protocol. That means when they are called they don't actually return a value and then exit, the generator functions will automatically suspend and resume their execution and state around the last point of value generation. \n",
        "\n",
        "The main advantage here is \"state suspension\" which means, instead of computing an entire series of values upfront and the generator functions can be suspended. To understand this concept better let's go ahead and learn how to create some generator functions."
      ]
    },
    {
      "cell_type": "code",
      "metadata": {
        "id": "u9x1y4gsZqw8"
      },
      "source": [
        "# Generator function for the cube of numbers (power of 3)\n",
        "def gencubes(n):\n",
        "  for num in range(n):\n",
        "    yield num**3"
      ],
      "execution_count": 83,
      "outputs": []
    },
    {
      "cell_type": "code",
      "metadata": {
        "scrolled": true,
        "colab": {
          "base_uri": "https://localhost:8080/"
        },
        "id": "6FoCl2mXZqw9",
        "outputId": "5b3075d3-6fdb-4495-8d6d-ab402d696839"
      },
      "source": [
        "for x in gencubes(7):\n",
        "  print(x)"
      ],
      "execution_count": 85,
      "outputs": [
        {
          "output_type": "stream",
          "name": "stdout",
          "text": [
            "0\n",
            "1\n",
            "8\n",
            "27\n",
            "64\n",
            "125\n",
            "216\n"
          ]
        }
      ]
    },
    {
      "cell_type": "markdown",
      "metadata": {
        "id": "nbzbUC4fZqw9"
      },
      "source": [
        "Great! since we have a generator function we don't have to keep track of every single cube we created.\n",
        "\n",
        "Generators are the best for calculating large sets of results (particularly in calculations that involve loops themselves) when we don't want to allocate memory for all of the results at the same time. \n",
        "\n",
        "Let's create another sample generator which calculates [fibonacci](https://en.wikipedia.org/wiki/Fibonacci_number) numbers:"
      ]
    },
    {
      "cell_type": "code",
      "metadata": {
        "id": "tBe2E9VzZqxA"
      },
      "source": [
        "def genfibon(n):\n",
        "  a=1\n",
        "  b=1\n",
        "  for i in range (n):\n",
        "    yield a\n",
        "    a,b = b,a+b"
      ],
      "execution_count": 86,
      "outputs": []
    },
    {
      "cell_type": "code",
      "metadata": {
        "colab": {
          "base_uri": "https://localhost:8080/"
        },
        "id": "CM96pR4lZqxA",
        "outputId": "d703e40e-8740-4f1d-bd74-6771feea8ccb"
      },
      "source": [
        "for num in genfibon(10):\n",
        "  print(num)"
      ],
      "execution_count": 87,
      "outputs": [
        {
          "output_type": "stream",
          "name": "stdout",
          "text": [
            "1\n",
            "1\n",
            "2\n",
            "3\n",
            "5\n",
            "8\n",
            "13\n",
            "21\n",
            "34\n",
            "55\n"
          ]
        }
      ]
    },
    {
      "cell_type": "markdown",
      "metadata": {
        "id": "tCkWdbjZZqxB"
      },
      "source": [
        "What if this was a normal function, what would it look like?"
      ]
    },
    {
      "cell_type": "code",
      "metadata": {
        "id": "EneWy70EZqxB"
      },
      "source": [
        "def fibon(n):\n",
        "  a=1\n",
        "  b=1\n",
        "  output=[]\n",
        "  for i in range (n):\n",
        "    output.append(a)\n",
        "    a,b = b,a+b\n",
        "  return output"
      ],
      "execution_count": 88,
      "outputs": []
    },
    {
      "cell_type": "code",
      "metadata": {
        "colab": {
          "base_uri": "https://localhost:8080/"
        },
        "id": "w-fQoft7ZqxB",
        "outputId": "087dd1b5-7f98-4f6f-b91b-c86d784004de"
      },
      "source": [
        "fibon(10)"
      ],
      "execution_count": 89,
      "outputs": [
        {
          "output_type": "execute_result",
          "data": {
            "text/plain": [
              "[1, 1, 2, 3, 5, 8, 13, 21, 34, 55]"
            ]
          },
          "metadata": {},
          "execution_count": 89
        }
      ]
    },
    {
      "cell_type": "markdown",
      "metadata": {
        "id": "n3cWv5JRZqxC"
      },
      "source": [
        "Note, if we call some huge value of \"n\", the second function will have to keep track of every single result. In our case, we only care about the previous result to generate the next one.\n",
        "\n",
        "\n",
        "## next() and iter() built-in functions\n",
        "\n",
        "A key to fully understand generators is the next() and the iter() function.\n",
        "\n",
        "The next function allows us to access the next element in a sequence. Let's check how it works."
      ]
    },
    {
      "cell_type": "code",
      "metadata": {
        "colab": {
          "base_uri": "https://localhost:8080/"
        },
        "id": "-FW9F16JZqxC",
        "outputId": "3a141a97-56de-4f35-fd7f-232191281e5c"
      },
      "source": [
        "print(list(range(3)))"
      ],
      "execution_count": 96,
      "outputs": [
        {
          "output_type": "stream",
          "name": "stdout",
          "text": [
            "[0, 1, 2]\n"
          ]
        }
      ]
    },
    {
      "cell_type": "code",
      "metadata": {
        "id": "L0pHbO-wZqxC"
      },
      "source": [
        "def simple_gen():\n",
        "  for x in range(3):\n",
        "    yield x"
      ],
      "execution_count": 97,
      "outputs": []
    },
    {
      "cell_type": "code",
      "metadata": {
        "id": "7seSxtUVZqxD"
      },
      "source": [
        "# Assign simple_gen \n",
        "g= simple_gen()"
      ],
      "execution_count": 98,
      "outputs": []
    },
    {
      "cell_type": "code",
      "metadata": {
        "colab": {
          "base_uri": "https://localhost:8080/"
        },
        "id": "AVWCYeXBZqxD",
        "outputId": "780f2cd6-8ad4-4d0c-ba27-9c53cac201ce"
      },
      "source": [
        "print(next(g))"
      ],
      "execution_count": 99,
      "outputs": [
        {
          "output_type": "stream",
          "name": "stdout",
          "text": [
            "0\n"
          ]
        }
      ]
    },
    {
      "cell_type": "code",
      "metadata": {
        "colab": {
          "base_uri": "https://localhost:8080/"
        },
        "id": "8T0Z-loLZqxD",
        "outputId": "33d1dd2d-faf4-4a9f-d1bd-3e804b04a5a0"
      },
      "source": [
        "print(next(g))"
      ],
      "execution_count": 100,
      "outputs": [
        {
          "output_type": "stream",
          "name": "stdout",
          "text": [
            "1\n"
          ]
        }
      ]
    },
    {
      "cell_type": "code",
      "metadata": {
        "colab": {
          "base_uri": "https://localhost:8080/"
        },
        "id": "mj2LeiseZqxD",
        "outputId": "fd4d15ad-9acf-47f9-9214-a739e8c5788c"
      },
      "source": [
        "print(next(g))"
      ],
      "execution_count": 101,
      "outputs": [
        {
          "output_type": "stream",
          "name": "stdout",
          "text": [
            "2\n"
          ]
        }
      ]
    },
    {
      "cell_type": "code",
      "metadata": {
        "colab": {
          "base_uri": "https://localhost:8080/",
          "height": 169
        },
        "id": "9hR4fq3KZqxD",
        "outputId": "24531bac-51a5-4c79-d6ff-e25b16c71843"
      },
      "source": [
        "print(next(g)) #because only 0 1 2 were present"
      ],
      "execution_count": 102,
      "outputs": [
        {
          "output_type": "error",
          "ename": "StopIteration",
          "evalue": "ignored",
          "traceback": [
            "\u001b[0;31m---------------------------------------------------------------------------\u001b[0m",
            "\u001b[0;31mStopIteration\u001b[0m                             Traceback (most recent call last)",
            "\u001b[0;32m<ipython-input-102-1dfb29d6357e>\u001b[0m in \u001b[0;36m<module>\u001b[0;34m()\u001b[0m\n\u001b[0;32m----> 1\u001b[0;31m \u001b[0mprint\u001b[0m\u001b[0;34m(\u001b[0m\u001b[0mnext\u001b[0m\u001b[0;34m(\u001b[0m\u001b[0mg\u001b[0m\u001b[0;34m)\u001b[0m\u001b[0;34m)\u001b[0m\u001b[0;34m\u001b[0m\u001b[0;34m\u001b[0m\u001b[0m\n\u001b[0m",
            "\u001b[0;31mStopIteration\u001b[0m: "
          ]
        }
      ]
    },
    {
      "cell_type": "markdown",
      "metadata": {
        "id": "4xuAm_JoZqxE"
      },
      "source": [
        "After yielding all the values next() caused a StopIteration error. What this error informs us that all the values have been yielded. \n",
        "\n",
        "You might be wondering that why don’t we get this error while using a for loop? The \"for loop\" automatically catches this error and stops calling next. \n",
        "\n",
        "Let's go ahead and check out how to use iter(). You remember that strings are iterable:"
      ]
    },
    {
      "cell_type": "code",
      "metadata": {
        "colab": {
          "base_uri": "https://localhost:8080/"
        },
        "id": "t3wlInBEZqxV",
        "outputId": "63ba2aff-bd30-4628-ba34-dad245866647"
      },
      "source": [
        "s='hello'\n",
        "#Iterate over strings\n",
        "for let in s:\n",
        "  print(let)"
      ],
      "execution_count": 103,
      "outputs": [
        {
          "output_type": "stream",
          "name": "stdout",
          "text": [
            "h\n",
            "e\n",
            "l\n",
            "l\n",
            "o\n"
          ]
        }
      ]
    },
    {
      "cell_type": "markdown",
      "metadata": {
        "id": "mEi_J3X2ZqxV"
      },
      "source": [
        "But that doesn't mean the string itself is an *iterator*! We can check this with the next() function:"
      ]
    },
    {
      "cell_type": "code",
      "metadata": {
        "colab": {
          "base_uri": "https://localhost:8080/",
          "height": 169
        },
        "id": "8J1kAS1sZqxV",
        "outputId": "f0f01a0b-b5ea-4190-dd0a-8cb66991f444"
      },
      "source": [
        "next(s)"
      ],
      "execution_count": 104,
      "outputs": [
        {
          "output_type": "error",
          "ename": "TypeError",
          "evalue": "ignored",
          "traceback": [
            "\u001b[0;31m---------------------------------------------------------------------------\u001b[0m",
            "\u001b[0;31mTypeError\u001b[0m                                 Traceback (most recent call last)",
            "\u001b[0;32m<ipython-input-104-61c30b5fe1d5>\u001b[0m in \u001b[0;36m<module>\u001b[0;34m()\u001b[0m\n\u001b[0;32m----> 1\u001b[0;31m \u001b[0mnext\u001b[0m\u001b[0;34m(\u001b[0m\u001b[0ms\u001b[0m\u001b[0;34m)\u001b[0m\u001b[0;34m\u001b[0m\u001b[0;34m\u001b[0m\u001b[0m\n\u001b[0m",
            "\u001b[0;31mTypeError\u001b[0m: 'str' object is not an iterator"
          ]
        }
      ]
    },
    {
      "cell_type": "markdown",
      "metadata": {
        "id": "yp7QKsxuZqxW"
      },
      "source": [
        "This means that a string object supports iteration, but we can not directly iterate over it as we could with a generator function. The iter() function allows us to do just that!"
      ]
    },
    {
      "cell_type": "code",
      "metadata": {
        "id": "2fUJpg6_ZqxW"
      },
      "source": [
        "s_iter = iter(s)"
      ],
      "execution_count": 105,
      "outputs": []
    },
    {
      "cell_type": "code",
      "metadata": {
        "colab": {
          "base_uri": "https://localhost:8080/",
          "height": 35
        },
        "id": "ebmDgqLCZqxW",
        "outputId": "6e943f59-b656-4b12-988d-27e0b0f1ce91"
      },
      "source": [
        "next(s_iter)"
      ],
      "execution_count": 106,
      "outputs": [
        {
          "output_type": "execute_result",
          "data": {
            "application/vnd.google.colaboratory.intrinsic+json": {
              "type": "string"
            },
            "text/plain": [
              "'h'"
            ]
          },
          "metadata": {},
          "execution_count": 106
        }
      ]
    },
    {
      "cell_type": "code",
      "metadata": {
        "colab": {
          "base_uri": "https://localhost:8080/",
          "height": 35
        },
        "id": "F_zBdtk9ZqxW",
        "outputId": "bac0fd80-ee4c-49a2-d700-5c34456e350a"
      },
      "source": [
        "next(s_iter)"
      ],
      "execution_count": 107,
      "outputs": [
        {
          "output_type": "execute_result",
          "data": {
            "application/vnd.google.colaboratory.intrinsic+json": {
              "type": "string"
            },
            "text/plain": [
              "'e'"
            ]
          },
          "metadata": {},
          "execution_count": 107
        }
      ]
    },
    {
      "cell_type": "markdown",
      "metadata": {
        "id": "m4cUCIQzZqxX"
      },
      "source": [
        "# map()\n",
        "\n",
        "The map() is a function that takes in two arguments: \n",
        "1. A function \n",
        "2. A sequence iterable. \n",
        "\n",
        "In the form: map(function, sequence)\n",
        "    \n",
        "The first argument is the name of a function and the second a sequence (e.g. a list). map() applies the function to all the elements of the sequence. It returns a new list with the elements changed by the function.\n",
        "\n",
        "When we went over list comprehension we created a small expression to convert Fahrenheit to Celsius. Let's do the same here but use map. \n",
        "\n",
        "We'll start with two functions:"
      ]
    },
    {
      "cell_type": "code",
      "metadata": {
        "id": "_h7oMjm0ZqxX"
      },
      "source": [
        "def fahrenheit(T):\n",
        "  return((float(9)/5)*T +32)\n",
        "def celsius(T):\n",
        "  return (float(5)/9)*(T-32)\n",
        "temp=[0,22.5,40,100]"
      ],
      "execution_count": 112,
      "outputs": []
    },
    {
      "cell_type": "markdown",
      "metadata": {
        "id": "vnjCTlUOZqxX"
      },
      "source": [
        "Now let's see map() in action:"
      ]
    },
    {
      "cell_type": "code",
      "metadata": {
        "colab": {
          "base_uri": "https://localhost:8080/"
        },
        "id": "LHsXep35ZqxX",
        "outputId": "06d34a16-4125-45c4-a18b-6a7a9199452d"
      },
      "source": [
        "F_temps=list(map(fahrenheit,temp))\n",
        "#Show\n",
        "F_temps"
      ],
      "execution_count": 113,
      "outputs": [
        {
          "output_type": "execute_result",
          "data": {
            "text/plain": [
              "[32.0, 72.5, 104.0, 212.0]"
            ]
          },
          "metadata": {},
          "execution_count": 113
        }
      ]
    },
    {
      "cell_type": "code",
      "metadata": {
        "colab": {
          "base_uri": "https://localhost:8080/"
        },
        "id": "qACyFqnjZqxX",
        "outputId": "ee967563-be30-4cae-9f36-613489890a84"
      },
      "source": [
        "# Convert back\n",
        "list(map(celsius, F_temps))"
      ],
      "execution_count": 114,
      "outputs": [
        {
          "output_type": "execute_result",
          "data": {
            "text/plain": [
              "[0.0, 22.5, 40.0, 100.0]"
            ]
          },
          "metadata": {},
          "execution_count": 114
        }
      ]
    },
    {
      "cell_type": "markdown",
      "metadata": {
        "id": "yA6PVGIvZqxj"
      },
      "source": [
        "In the example above, we haven't used a lambda expression. By using lambda, it is not necessary to define and name fahrenheit() and celsius() functions."
      ]
    },
    {
      "cell_type": "code",
      "metadata": {
        "colab": {
          "base_uri": "https://localhost:8080/"
        },
        "id": "I6WCKSfKZqxz",
        "outputId": "f76802da-55d2-4ac8-c9bf-8a0cf039cb2f"
      },
      "source": [
        "list(map(lambda x:(5.0/9)*(x-32),F_temps))"
      ],
      "execution_count": 115,
      "outputs": [
        {
          "output_type": "execute_result",
          "data": {
            "text/plain": [
              "[0.0, 22.5, 40.0, 100.0]"
            ]
          },
          "metadata": {},
          "execution_count": 115
        }
      ]
    },
    {
      "cell_type": "markdown",
      "metadata": {
        "id": "Yb5U_HTDZqx0"
      },
      "source": [
        "Map is more commonly used with lambda expressions since the entire purpose of a map() is to save effort on creating manual for loops."
      ]
    },
    {
      "cell_type": "markdown",
      "metadata": {
        "id": "a0IK3ABZZqx1"
      },
      "source": [
        "map() can be applied to more than one iterable. The iterables must have the same length.\n",
        "\n",
        "For instance, if we are working with two lists-map() will apply its lambda function to the elements of the argument lists, i.e. it first applies to the elements with the 0th index, then to the elements with the 1st index until the nth index is reached.\n",
        "\n",
        "For example, let's map a lambda expression to two lists:"
      ]
    },
    {
      "cell_type": "code",
      "metadata": {
        "colab": {
          "base_uri": "https://localhost:8080/"
        },
        "id": "AZDPZ7HRZqx1",
        "outputId": "555848d9-0720-4e95-a995-3be3d10f9433"
      },
      "source": [
        "a=[1,2,3,4]\n",
        "b=[5,6,7,8]\n",
        "c=[9,10,11,12]\n",
        "list(map(lambda x,y,z:x+y+z,a,b,c))"
      ],
      "execution_count": 118,
      "outputs": [
        {
          "output_type": "execute_result",
          "data": {
            "text/plain": [
              "[15, 18, 21, 24]"
            ]
          },
          "metadata": {},
          "execution_count": 118
        }
      ]
    },
    {
      "cell_type": "code",
      "metadata": {
        "colab": {
          "base_uri": "https://localhost:8080/"
        },
        "id": "2RKTGdv7Zqx2",
        "outputId": "7e88624f-e65c-4043-83e3-3772dc888450"
      },
      "source": [
        "# Now all three lists\n",
        "list(map(lambda x,y,z:x+y+z,a,b,c))"
      ],
      "execution_count": 119,
      "outputs": [
        {
          "output_type": "execute_result",
          "data": {
            "text/plain": [
              "[15, 18, 21, 24]"
            ]
          },
          "metadata": {},
          "execution_count": 119
        }
      ]
    },
    {
      "cell_type": "markdown",
      "metadata": {
        "id": "cczzmTtSZqx2"
      },
      "source": [
        "In the above example, the parameter 'x' gets its values from the list 'a', while 'y' gets its values from 'b' and 'z' from list 'c'. Go ahead and create your own example to make sure that you completely understand mapping more than one iterable."
      ]
    },
    {
      "cell_type": "markdown",
      "metadata": {
        "id": "YWSPi7PgZqx2"
      },
      "source": [
        "# reduce()\n",
        "\n",
        "The function reduce(function, sequence) continually applies the function to the sequence. It then returns a single value. \n",
        "\n",
        "If seq = [s1, s2, s3, ... , sn], calling reduce(function, sequence) works like this:\n",
        "\n",
        "* At first the first two elements of sequence will be applied to function, i.e. func(s1,s2) \n",
        "* The list on which reduce() works looks like this: [ function(s1, s2), s3, ... , sn ]\n",
        "* In the next step the function will be applied on the previous result and the third element of the list, i.e. function(function(s1, s2),s3)\n",
        "* The list looks like: [ function(function(s1, s2),s3), ... , sn ]\n",
        "* It continues like this until just one element is left and return this element as the result of reduce()\n",
        "\n",
        "Let's see an example:"
      ]
    },
    {
      "cell_type": "code",
      "metadata": {
        "id": "mWj2X7F-Zqx3"
      },
      "source": [
        "from functools import reduce\n",
        "lst = [47,11,42,13]"
      ],
      "execution_count": 120,
      "outputs": []
    },
    {
      "cell_type": "markdown",
      "metadata": {
        "id": "M5qlV4PNZqx3"
      },
      "source": [
        "Let's look at a diagram to get a better understanding of what is going on here:"
      ]
    },
    {
      "cell_type": "code",
      "metadata": {
        "colab": {
          "base_uri": "https://localhost:8080/",
          "height": 34
        },
        "id": "_mruJgF0Zqx3",
        "outputId": "eaed6468-59ae-49bb-c28d-561944add974"
      },
      "source": [
        "from IPython.display import Image\n",
        "Image('data:image/jpeg;base64,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')"
      ],
      "execution_count": 121,
      "outputs": [
        {
          "output_type": "execute_result",
          "data": {
            "image/png": "data:image/jpeg;base64,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",
            "text/plain": [
              "<IPython.core.display.Image object>"
            ]
          },
          "metadata": {},
          "execution_count": 121
        }
      ]
    },
    {
      "cell_type": "markdown",
      "metadata": {
        "id": "rAlbFTx1Zqx3"
      },
      "source": [
        "Note how we keep reducing the sequence until a single final value is obtained. Let's see another example:"
      ]
    },
    {
      "cell_type": "code",
      "metadata": {
        "id": "Sib2R4-YZqx4"
      },
      "source": [
        "#Find the maximum of a sequence (This already exists as max())\n",
        "max_find= lambda a,b:a if(a>b) else b"
      ],
      "execution_count": 122,
      "outputs": []
    },
    {
      "cell_type": "code",
      "metadata": {
        "colab": {
          "base_uri": "https://localhost:8080/"
        },
        "id": "a3_T9z-eZqx4",
        "outputId": "c9570edf-63e3-47b4-b067-031cc39e0160"
      },
      "source": [
        "#Find max\n",
        "print(lst)\n",
        "reduce(lambda a,b:a if(a>b) else b,lst)"
      ],
      "execution_count": 126,
      "outputs": [
        {
          "output_type": "stream",
          "name": "stdout",
          "text": [
            "[47, 11, 42, 13]\n"
          ]
        },
        {
          "output_type": "execute_result",
          "data": {
            "text/plain": [
              "47"
            ]
          },
          "metadata": {},
          "execution_count": 126
        }
      ]
    },
    {
      "cell_type": "markdown",
      "metadata": {
        "id": "iEOHOiSpZqx5"
      },
      "source": [
        "# filter\n",
        "\n",
        "The function filter(function, list) offers a convenient way to filter out all the elements of an iterable, for which the function returns \"True\". \n",
        "\n",
        "The function filter(function(),l) needs a function as its first argument. The function needs to return a Boolean value (either True or False). This function will be applied to every element of the iterable. Only if the function returns \"True\" will the element of the iterable be included in the result.\n",
        "\n",
        "Let's see some examples:"
      ]
    },
    {
      "cell_type": "code",
      "metadata": {
        "id": "2Xp4GPotZqx5"
      },
      "source": [
        "#First let's make a function\n",
        "def even_check(num):\n",
        "  if num%2==0:\n",
        "    return True"
      ],
      "execution_count": 124,
      "outputs": []
    },
    {
      "cell_type": "markdown",
      "metadata": {
        "id": "GjBTDZ1fZqx6"
      },
      "source": [
        "Now let's filter a list of numbers. Note that putting the function into filter without any parenthesis might feel strange, but keep in mind that functions are objects as well."
      ]
    },
    {
      "cell_type": "code",
      "metadata": {
        "colab": {
          "base_uri": "https://localhost:8080/"
        },
        "id": "coSRQgDBZqx7",
        "outputId": "bfb1cf67-5b09-45ae-d777-528976c4ff34"
      },
      "source": [
        "lst= range(20)\n",
        "print(list(lst))\n",
        "list(filter(even_check,lst))"
      ],
      "execution_count": 130,
      "outputs": [
        {
          "output_type": "stream",
          "name": "stdout",
          "text": [
            "[0, 1, 2, 3, 4, 5, 6, 7, 8, 9, 10, 11, 12, 13, 14, 15, 16, 17, 18, 19]\n"
          ]
        },
        {
          "output_type": "execute_result",
          "data": {
            "text/plain": [
              "[0, 2, 4, 6, 8, 10, 12, 14, 16, 18]"
            ]
          },
          "metadata": {},
          "execution_count": 130
        }
      ]
    },
    {
      "cell_type": "markdown",
      "metadata": {
        "id": "nkwX-kT4Zqx7"
      },
      "source": [
        "filter() is more commonly used with lambda functions, this because we usually use filter for a quick job where we don't want to write an entire function. Let's repeat the example above using a lambda expression:"
      ]
    },
    {
      "cell_type": "code",
      "metadata": {
        "colab": {
          "base_uri": "https://localhost:8080/"
        },
        "id": "qSzMuQT4Zqx7",
        "outputId": "3a2e3906-5d71-4dea-fb9a-2bdf46248935"
      },
      "source": [
        "list(filter(lambda x:x%2==0,lst))"
      ],
      "execution_count": 132,
      "outputs": [
        {
          "output_type": "execute_result",
          "data": {
            "text/plain": [
              "[0, 2, 4, 6, 8, 10, 12, 14, 16, 18]"
            ]
          },
          "metadata": {},
          "execution_count": 132
        }
      ]
    },
    {
      "cell_type": "code",
      "metadata": {
        "id": "-R1NGcXsZqx8"
      },
      "source": [
        ""
      ],
      "execution_count": null,
      "outputs": []
    }
  ]
}